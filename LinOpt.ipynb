{
 "cells": [
  {
   "cell_type": "code",
   "execution_count": 1,
   "id": "96828a5a-098a-4025-964e-0708e1693d50",
   "metadata": {},
   "outputs": [],
   "source": [
    "from scipy.optimize import linprog"
   ]
  },
  {
   "cell_type": "code",
   "execution_count": 2,
   "id": "99468e36-d63d-40f4-980c-69a0a5302d79",
   "metadata": {},
   "outputs": [
    {
     "name": "stdout",
     "output_type": "stream",
     "text": [
      "Optimal value: 180.00\n",
      "x = 20.00\n",
      "y = 60.00\n"
     ]
    }
   ],
   "source": [
    "# Objective function coefficients (note the negative for maximization)\n",
    "c = [-3, -2]  # Maximize 3x + 2y → minimize -3x -2y\n",
    "\n",
    "# Inequality constraint matrix (A_ub * x <= b_ub)\n",
    "A = [\n",
    "    [2, 1],   # 2x + y <= 100\n",
    "    [1, 1],   # x + y <= 80\n",
    "    [1, 0]    # x <= 40\n",
    "]\n",
    "b = [100, 80, 40]\n",
    "\n",
    "# Variable bounds: x >= 0, y >= 0\n",
    "x_bounds = (0, None)\n",
    "y_bounds = (0, None)\n",
    "\n",
    "# Solve the problem\n",
    "result = linprog(c, A_ub=A, b_ub=b, bounds=[x_bounds, y_bounds], method='highs')\n",
    "\n",
    "# Output results\n",
    "if result.success:\n",
    "    print(f\"Optimal value: {-result.fun:.2f}\")\n",
    "    print(f\"x = {result.x[0]:.2f}\")\n",
    "    print(f\"y = {result.x[1]:.2f}\")\n",
    "else:\n",
    "    print(\"Optimization failed:\", result.message)"
   ]
  },
  {
   "cell_type": "code",
   "execution_count": 7,
   "id": "246fb861-6a72-4de6-976f-08ac58ad0c9c",
   "metadata": {},
   "outputs": [
    {
     "name": "stderr",
     "output_type": "stream",
     "text": [
      "C:\\Users\\Administrator\\anaconda3\\Lib\\site-packages\\pulp\\pulp.py:1455: UserWarning: Spaces are not permitted in the name. Converted to '_'\n",
      "  warnings.warn(\"Spaces are not permitted in the name. Converted to '_'\")\n"
     ]
    },
    {
     "data": {
      "text/plain": [
       "1"
      ]
     },
     "execution_count": 7,
     "metadata": {},
     "output_type": "execute_result"
    }
   ],
   "source": [
    "import pulp\n",
    "\n",
    "dealers = [\"X\",\"Y\",\"Z\"]\n",
    "variable_costs = {\"X\":500,\"Y\":350,\"Z\":450}\n",
    "fixed_costs = {\"X\":4000,\"Y\":2000,\"Z\":6000}\n",
    "\n",
    "quantities = pulp.LpVariable.dicts(\"quantity\", dealers, lowBound = 0, cat = pulp.LpInteger)\n",
    "is_orders = pulp.LpVariable.dicts(\"orders\",dealers, cat=pulp.LpBinary)\n",
    "\n",
    "model = pulp.LpProblem(\"A cost minimization problem\",\n",
    " pulp.LpMinimize)\n",
    "\n",
    "model += sum([variable_costs[i]*quantities[i] +\n",
    " fixed_costs[i]*is_orders[i] for i in dealers]), \\\n",
    " \"Minimize portfolio cost\"\n",
    "model += sum([quantities[i] for i in dealers]) == 150, \\\n",
    " \"Total contracts required\"\n",
    "model += is_orders[\"X\"]*30 <= quantities[\"X\"] <= \\\n",
    " is_orders[\"X\"]*100, \"Boundary of total volume of X\"\n",
    "model += is_orders[\"Y\"]*30 <= quantities[\"Y\"] <= \\\n",
    " is_orders[\"Y\"]*90, \"Boundary of total volume of Y\"\n",
    "model += is_orders[\"Z\"]*30 <= quantities[\"Z\"] <= \\\n",
    " is_orders[\"Z\"]*70, \"Boundary of total volume of Z\"\n",
    "\n",
    "model.solve()\n",
    "\n"
   ]
  },
  {
   "cell_type": "code",
   "execution_count": 8,
   "id": "4b33032c-ccfb-4e52-8f10-07d7a22cd8b0",
   "metadata": {},
   "outputs": [
    {
     "name": "stdout",
     "output_type": "stream",
     "text": [
      "Minimization Results:\n",
      "orders_X = 0.0\n",
      "orders_Y = 1.0\n",
      "orders_Z = 1.0\n",
      "quantity_X = 0.0\n",
      "quantity_Y = 90.0\n",
      "quantity_Z = 60.0\n",
      "Total cost: 66500.0\n"
     ]
    }
   ],
   "source": [
    "print('Minimization Results:')\n",
    "for variable in model.variables():\n",
    "    print(variable, '=', variable.varValue)\n",
    "\n",
    "print('Total cost:',  pulp.value(model.objective))"
   ]
  },
  {
   "cell_type": "code",
   "execution_count": 10,
   "id": "1ccae9ac-1551-4335-bb38-479e473f416a",
   "metadata": {},
   "outputs": [
    {
     "data": {
      "text/plain": [
       "array([[  6.],\n",
       "       [ 15.],\n",
       "       [-23.]])"
      ]
     },
     "execution_count": 10,
     "metadata": {},
     "output_type": "execute_result"
    }
   ],
   "source": [
    "import numpy as np\n",
    "A = np.array([[2,1,1],[1,0,0],[1,3,2]])\n",
    "B = np.array([[4],[6],[5]])\n",
    "np.linalg.solve(A,B)"
   ]
  },
  {
   "cell_type": "code",
   "execution_count": null,
   "id": "15ec4faa-f221-458f-8523-848c126aa9bb",
   "metadata": {},
   "outputs": [],
   "source": []
  }
 ],
 "metadata": {
  "kernelspec": {
   "display_name": "Python 3 (ipykernel)",
   "language": "python",
   "name": "python3"
  },
  "language_info": {
   "codemirror_mode": {
    "name": "ipython",
    "version": 3
   },
   "file_extension": ".py",
   "mimetype": "text/x-python",
   "name": "python",
   "nbconvert_exporter": "python",
   "pygments_lexer": "ipython3",
   "version": "3.12.7"
  }
 },
 "nbformat": 4,
 "nbformat_minor": 5
}
