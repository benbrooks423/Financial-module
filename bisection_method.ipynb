{
 "cells": [
  {
   "cell_type": "code",
   "execution_count": 1,
   "id": "1efb3e3d-75ee-4ec7-82a1-83b63bc57d32",
   "metadata": {},
   "outputs": [],
   "source": [
    "def bisection(func, a, b, tol=0.1, maxiter=10):\n",
    "    \"\"\"\n",
    "    :param func: The function to solve\n",
    "    :param a: The x-axis value where f(a)<0\n",
    "    :param b: The x-axis value where f(b)>0\n",
    "    :param tol: The precision of the solution\n",
    "    :param maxiter: Maximum number of iterations\n",
    "    :return: \n",
    "        The x-axis value of the root,\n",
    "        number of iterations used\n",
    "    \"\"\"\n",
    "    c = (a+b)*0.5  # Declare c as the midpoint ab\n",
    "    n = 1  # Start with 1 iteration\n",
    "    while n <= maxiter:\n",
    "        c = (a+b)*0.5\n",
    "        if func(c) == 0 or abs(a-b)*0.5 < tol:\n",
    "            # Root is found or is very close\n",
    "            return c, n\n",
    "\n",
    "        n += 1\n",
    "        if func(c) < 0:\n",
    "            a = c\n",
    "        else:\n",
    "            b = c\n",
    "\n",
    "    return c, n"
   ]
  },
  {
   "cell_type": "code",
   "execution_count": null,
   "id": "214ec3e9-1565-4c13-8728-8ccfee1fba8d",
   "metadata": {},
   "outputs": [],
   "source": []
  }
 ],
 "metadata": {
  "kernelspec": {
   "display_name": "Python 3 (ipykernel)",
   "language": "python",
   "name": "python3"
  },
  "language_info": {
   "codemirror_mode": {
    "name": "ipython",
    "version": 3
   },
   "file_extension": ".py",
   "mimetype": "text/x-python",
   "name": "python",
   "nbconvert_exporter": "python",
   "pygments_lexer": "ipython3",
   "version": "3.12.7"
  }
 },
 "nbformat": 4,
 "nbformat_minor": 5
}
