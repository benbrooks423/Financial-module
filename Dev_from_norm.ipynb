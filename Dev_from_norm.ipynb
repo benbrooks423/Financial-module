{
 "cells": [
  {
   "cell_type": "code",
   "execution_count": 3,
   "id": "5b4a3ad1-0427-4825-b0bc-aa608eddd70d",
   "metadata": {},
   "outputs": [
    {
     "name": "stdout",
     "output_type": "stream",
     "text": [
      "The autoreload extension is already loaded. To reload it, use:\n",
      "  %reload_ext autoreload\n"
     ]
    }
   ],
   "source": [
    "%load_ext autoreload\n",
    "%autoreload 2 \n",
    "\n",
    "import pandas as pd\n",
    "import numpy as np\n",
    "import my_modules as mm"
   ]
  },
  {
   "cell_type": "code",
   "execution_count": 4,
   "id": "fc4a32f3-f599-4e07-b4a1-77ededbba4d8",
   "metadata": {},
   "outputs": [
    {
     "data": {
      "text/plain": [
       "<function my_modules.drawdown(return_series)>"
      ]
     },
     "execution_count": 4,
     "metadata": {},
     "output_type": "execute_result"
    }
   ],
   "source": [
    "mm.drawdown"
   ]
  },
  {
   "cell_type": "code",
   "execution_count": null,
   "id": "74e7790a-61e8-40d3-8c9e-9ea39e892e42",
   "metadata": {},
   "outputs": [],
   "source": []
  }
 ],
 "metadata": {
  "kernelspec": {
   "display_name": "Python 3 (ipykernel)",
   "language": "python",
   "name": "python3"
  },
  "language_info": {
   "codemirror_mode": {
    "name": "ipython",
    "version": 3
   },
   "file_extension": ".py",
   "mimetype": "text/x-python",
   "name": "python",
   "nbconvert_exporter": "python",
   "pygments_lexer": "ipython3",
   "version": "3.12.7"
  }
 },
 "nbformat": 4,
 "nbformat_minor": 5
}
